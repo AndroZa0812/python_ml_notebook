{
 "cells": [
  {
   "cell_type": "code",
   "execution_count": 6,
   "metadata": {},
   "outputs": [],
   "source": [
    "import numpy as np\n",
    "import pandas as pd"
   ]
  },
  {
   "cell_type": "code",
   "execution_count": 30,
   "metadata": {},
   "outputs": [],
   "source": [
    "amzn = [2039.51, 12.63, 487.74, 1.61, 157.98, 972.96] # AMZN\n",
    "goog = [1197.0, 23.16, 348.95, 1.4, 51.38, 829.37]  # GOOG      \n",
    "fb = [171.16, 6.46, 2398.61, 0.66, 25.87, 482.68]  # FB"
   ]
  },
  {
   "cell_type": "markdown",
   "metadata": {},
   "source": [
    "# METHOD 1"
   ]
  },
  {
   "cell_type": "code",
   "execution_count": 40,
   "metadata": {},
   "outputs": [
    {
     "data": {
      "text/plain": [
       "array([[2.03951e+03, 1.19700e+03, 1.71160e+02],\n",
       "       [1.26300e+01, 2.31600e+01, 6.46000e+00],\n",
       "       [4.87740e+02, 3.48950e+02, 2.39861e+03],\n",
       "       [1.61000e+00, 1.40000e+00, 6.60000e-01],\n",
       "       [1.57980e+02, 5.13800e+01, 2.58700e+01],\n",
       "       [9.72960e+02, 8.29370e+02, 4.82680e+02]])"
      ]
     },
     "execution_count": 40,
     "metadata": {},
     "output_type": "execute_result"
    }
   ],
   "source": [
    "np.array((amzn, goog, fb)).T"
   ]
  },
  {
   "cell_type": "code",
   "execution_count": 41,
   "metadata": {},
   "outputs": [
    {
     "data": {
      "text/html": [
       "<div>\n",
       "<style scoped>\n",
       "    .dataframe tbody tr th:only-of-type {\n",
       "        vertical-align: middle;\n",
       "    }\n",
       "\n",
       "    .dataframe tbody tr th {\n",
       "        vertical-align: top;\n",
       "    }\n",
       "\n",
       "    .dataframe thead th {\n",
       "        text-align: right;\n",
       "    }\n",
       "</style>\n",
       "<table border=\"1\" class=\"dataframe\">\n",
       "  <thead>\n",
       "    <tr style=\"text-align: right;\">\n",
       "      <th></th>\n",
       "      <th>Amazon</th>\n",
       "      <th>Google</th>\n",
       "      <th>Facebook</th>\n",
       "    </tr>\n",
       "  </thead>\n",
       "  <tbody>\n",
       "    <tr>\n",
       "      <th>Closing price</th>\n",
       "      <td>2039.51</td>\n",
       "      <td>1197.00</td>\n",
       "      <td>171.16</td>\n",
       "    </tr>\n",
       "    <tr>\n",
       "      <th>EPS</th>\n",
       "      <td>12.63</td>\n",
       "      <td>23.16</td>\n",
       "      <td>6.46</td>\n",
       "    </tr>\n",
       "    <tr>\n",
       "      <th>Shares Outstanding(M)</th>\n",
       "      <td>487.74</td>\n",
       "      <td>348.95</td>\n",
       "      <td>2398.61</td>\n",
       "    </tr>\n",
       "    <tr>\n",
       "      <th>Beta</th>\n",
       "      <td>1.61</td>\n",
       "      <td>1.40</td>\n",
       "      <td>0.66</td>\n",
       "    </tr>\n",
       "    <tr>\n",
       "      <th>P/E</th>\n",
       "      <td>157.98</td>\n",
       "      <td>51.38</td>\n",
       "      <td>25.87</td>\n",
       "    </tr>\n",
       "    <tr>\n",
       "      <th>Market Cap(B)</th>\n",
       "      <td>972.96</td>\n",
       "      <td>829.37</td>\n",
       "      <td>482.68</td>\n",
       "    </tr>\n",
       "  </tbody>\n",
       "</table>\n",
       "</div>"
      ],
      "text/plain": [
       "                        Amazon   Google  Facebook\n",
       "Closing price          2039.51  1197.00    171.16\n",
       "EPS                      12.63    23.16      6.46\n",
       "Shares Outstanding(M)   487.74   348.95   2398.61\n",
       "Beta                      1.61     1.40      0.66\n",
       "P/E                     157.98    51.38     25.87\n",
       "Market Cap(B)           972.96   829.37    482.68"
      ]
     },
     "execution_count": 41,
     "metadata": {},
     "output_type": "execute_result"
    }
   ],
   "source": [
    "pd.DataFrame(np.array((amzn, goog, fb)).T,\n",
    "             columns = ['Amazon', 'Google', 'Facebook'],\n",
    "             index = ['Closing price', 'EPS', 'Shares Outstanding(M)', 'Beta', 'P/E', 'Market Cap(B)'])"
   ]
  }
 ],
 "metadata": {
  "kernelspec": {
   "display_name": "Python 3",
   "language": "python",
   "name": "python3"
  },
  "language_info": {
   "codemirror_mode": {
    "name": "ipython",
    "version": 3
   },
   "file_extension": ".py",
   "mimetype": "text/x-python",
   "name": "python",
   "nbconvert_exporter": "python",
   "pygments_lexer": "ipython3",
   "version": "3.7.3"
  }
 },
 "nbformat": 4,
 "nbformat_minor": 2
}
