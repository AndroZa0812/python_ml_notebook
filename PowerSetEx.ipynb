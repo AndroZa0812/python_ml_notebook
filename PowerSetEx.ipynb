{
 "cells": [
  {
   "cell_type": "markdown",
   "metadata": {},
   "source": [
    "A function that generates the power set of a given set"
   ]
  },
  {
   "cell_type": "code",
   "execution_count": 1,
   "metadata": {},
   "outputs": [],
   "source": [
    "def power_set(s):\n",
    "    if len(s) == 0:\n",
    "        yield set(set())\n",
    "        return\n",
    "    \n",
    "    item = s.pop()    \n",
    "    subsets_without_item = power_set(s)\n",
    "    for subset in subsets_without_item:\n",
    "        yield subset\n",
    "        new_subset = set(subset)\n",
    "        new_subset.add(item)\n",
    "        yield new_subset"
   ]
  },
  {
   "cell_type": "code",
   "execution_count": 2,
   "metadata": {},
   "outputs": [],
   "source": [
    "my_set = set([1, 3, 6])"
   ]
  },
  {
   "cell_type": "code",
   "execution_count": 3,
   "metadata": {},
   "outputs": [
    {
     "name": "stdout",
     "output_type": "stream",
     "text": [
      "set()\n",
      "{1}\n",
      "{3}\n",
      "{1, 3}\n",
      "{6}\n",
      "{1, 6}\n",
      "{3, 6}\n",
      "{1, 3, 6}\n"
     ]
    }
   ],
   "source": [
    "for s in power_set(my_set):\n",
    "    print(s)"
   ]
  },
  {
   "cell_type": "code",
   "execution_count": null,
   "metadata": {},
   "outputs": [],
   "source": []
  }
 ],
 "metadata": {
  "kernelspec": {
   "display_name": "Python 3",
   "language": "python",
   "name": "python3"
  },
  "language_info": {
   "codemirror_mode": {
    "name": "ipython",
    "version": 3
   },
   "file_extension": ".py",
   "mimetype": "text/x-python",
   "name": "python",
   "nbconvert_exporter": "python",
   "pygments_lexer": "ipython3",
   "version": "3.7.3"
  }
 },
 "nbformat": 4,
 "nbformat_minor": 2
}
